{
 "cells": [
  {
   "cell_type": "code",
   "execution_count": 15,
   "metadata": {},
   "outputs": [],
   "source": [
    "import requests\n",
    "import json\n",
    "import time\n",
    "import urllib"
   ]
  },
  {
   "cell_type": "markdown",
   "metadata": {},
   "source": [
    "# Protocol Delegate"
   ]
  },
  {
   "cell_type": "code",
   "execution_count": 41,
   "metadata": {},
   "outputs": [],
   "source": [
    "class apiServiceDelegate:\n",
    "    def updateDataWhenSuccess(self, json_pydata):\n",
    "        return check\n",
    "        pass\n",
    "    def getDataError(self, error):\n",
    "        return check\n",
    "        pass\n",
    "    def updateImageWhenSuccess(self, json_pydata):\n",
    "        return check\n",
    "        pass\n",
    "    def getImageError(self, error):\n",
    "        return check\n",
    "        pass"
   ]
  },
  {
   "cell_type": "markdown",
   "metadata": {},
   "source": [
    "# API Service"
   ]
  },
  {
   "cell_type": "code",
   "execution_count": 45,
   "metadata": {},
   "outputs": [],
   "source": [
    "class APIService:\n",
    "    delegate = apiServiceDelegate()\n",
    "    params = {}\n",
    "    headers = {}\n",
    "    base_url = \"https://www.artstation.com/projects/random.json\"\n",
    "    payload = {\n",
    "        'per_page' : '50',\n",
    "        'username' : 'dtmayer'\n",
    "    }\n",
    "    img_hash_id = ''\n",
    "    page = 1\n",
    "    \n",
    "    def __init__(self, source = 'artstation', query = \"environment concept art\", per_page = '75'):\n",
    "        if source == 'artstation':\n",
    "            self.base_url = \"https://www.artstation.com/api/v2/search/projects.json\"\n",
    "            self.base_url_img = f\"https://www.artstation.com/projects/{self.img_hash_id}.json\"\n",
    "\n",
    "    #         self.params = urllib.urlencode(self.payload)\n",
    "#             self.params = urllib.parse.urlencode(self.payload, quote_via=urllib.parse.quote)\n",
    "\n",
    "            self.source = source\n",
    "            self.query = query\n",
    "            self.per_page = per_page\n",
    "            self.payload = json.dumps({\n",
    "              \"query\": self.query,\n",
    "              \"page\": self.page, # total count/per page -> update page to get more\n",
    "              \"per_page\": self.per_page, # <= 75\n",
    "              \"sorting\": \"relevance\",\n",
    "              \"pro_first\": \"1\",\n",
    "              \"filters\": [],\n",
    "              \"additional_fields\": []\n",
    "            })\n",
    "            self.headers = {\n",
    "                'content-type': 'application/json',\n",
    "                'public-csrf-token': 'LiDQjo/6zdJH6Zd+cUqMRLio+M9+vxK7s6XQ6AMSTp8dIMcAMm/VI+CA9oFfcd17o0yWBRp38pJ8JIZU7XXNdg==',\n",
    "                'cookie': 'visitor-uuid=f2360355-d844-4a31-b488-c5ec9a7c7da3; G_ENABLED_IDPS=google; ArtStationSessionCookie=IjQ4ZTk0NGY1LWQ3ZTUtNGUzMS05MDA3LWM2MDNjMTE4ZGQ2ZiI%3D--98a3781355fe7cdaff67c132aea656c8f495a81dd903a640859c3c29290a98c1; __stripe_mid=cb6deb83-ca23-4eb9-bb0c-5630f13af22a939289; country_code=VN; continent_code=AS; __ssid=6d1cfae6c18dcf935036d6291fd1520; PRIVATE-CSRF-TOKEN=MwAXjr2VGPGnaWH%2FLjtRPxvkbspkyOApz4FWvO5ng%2Bk%3D; _fbp=fb.1.1636631253340.1832638076; _ym_uid=1635758196313925388; _ym_d=1636631253; _ym_isad=1; _ym_visorc=b; __stripe_sid=28d95a1f-554e-4fb5-807d-1229b90869474468f0; __cf_bm=V9usrMOEnAPqLCD6A5bFHIl5myUFEyDlVJ_wPTkAh98-1636631672-0-AaneF6a2mJu2dtvxRaonvHOl4nZdjHzp49DIshQv80G39oi3UCW4iTLI/Ay6vLBF611Gte5e2eUUhR2W8KuvSQQ2Zm3eLTJylqGeMb+aFgjb; _ga=GA1.2.1352727789.1636631702; _gid=GA1.2.2085641078.1636631702; _gat_gtag_UA_29038430_1=1; _ArtStation_session=aFRURVo4VElPK1JpcEhqSVNPc25VbkFTV0w4Z3BzWkUxZGpDQ1YwaXZRZUl1SnVMRmZ6WkxNTVF6QnZXNkZRZEp5eTRDMTNVSVBPdmExM3FuUXJ6TDNKN1YwUEwyOGQ2WTY4TEpIWmgxU0tvOHo0Rk9tQ0x3dlVJOVFFS2RUMnNMN3NHVUFHSktPNEU4OGZaK3NKdkdDZllBN3NCRGtOZnhYV01aeEVncUcvN2FxbFZqNzZqdzRhcHhrRGdFSEdYLS0xcmNOckZCR1I0TjhTc2lnL2tWWUd3PT0%3D--8b895ed2a8ba0ba64226f90064bf4961ce8c31da; _ArtStation_session=OGkwVlhsR2dTN3g5c0NVN3hhbGxCekF2VTFia0xHVFI3VzBWK3pwaDBxOWIvczhBaFJsQ3ZUZTZMQzJ5WTA2SEhwZTV3N210NHU1Z0J6VXhRdWRtb01FbXYxYVNZMXlXc3VLWnZRdXNDYmhqN2VvaWJETHJ1VlN0Q2ZTdEtHZ0R0aDFQOVZDb1ZsZm04UkVna09TRTlSdzdGMStqSDVaQjc1QmZMREhldTJMYWFQNkdsUm45UWw0alpZSXJnVS9jLS1xRU9rRXdoMlVRbGx3K2Evb3UrVFZnPT0%3D--87524609ce14e4a3a56347f36b92fc34dabc11e0; __cf_bm=TUGBUG0Tk_EYHFyqFZXs4AXpy6.s4QfV75nmOk6X3fY-1636632280-0-Ae+ki7oKzphbDroIXlAnlajbM3HM8O6RcRbcP5ammxBIFSxF+BnSAV4am1pbP6P2qGA+yoBnbMPLGWjeU1ctvclQ9AynQlEtsw7W2zgKl//z'\n",
    "            }\n",
    "\n",
    "    def get(self):\n",
    "        try:\n",
    "            self.response = requests.request(\"POST\", self.base_url, headers=self.headers, data=self.payload)\n",
    "#             self.response = requests.get(self.base_url, params = self.params, headers=self.headers)\n",
    "            self.json_pydata = json.loads(self.response.text)\n",
    "            return self.delegate.updateDataWhenSuccess(self.json_pydata)\n",
    "        except Exception as error:\n",
    "            return self.delegate.getDataError(error)\n",
    "    def get_img(self):\n",
    "        try:\n",
    "            self.base_url_img = f\"https://www.artstation.com/projects/{self.img_hash_id}.json\"\n",
    "            self.response = requests.request(\"GET\", self.base_url_img)\n",
    "            self.json_pydata = json.loads(self.response.text)\n",
    "            return self.delegate.updateImageWhenSuccess(self.json_pydata)\n",
    "        except Exception as error:\n",
    "            return self.delegate.getImageError(error)\n",
    "#         return self.json_pydata\n",
    "    def setPage(self, page):\n",
    "        self.page = page\n",
    "        self.payload = json.dumps({\n",
    "            \"query\": self.query,\n",
    "            \"page\": self.page, # total count/per page -> update page to get more\n",
    "            \"per_page\": self.per_page, # <= 75\n",
    "            \"sorting\": \"relevance\",\n",
    "            \"pro_first\": \"1\",\n",
    "            \"filters\": [],\n",
    "            \"additional_fields\": []\n",
    "        })\n",
    "#         self.params = urllib.parse.urlencode(self.payload, quote_via=urllib.parse.quote)\n",
    "        pass\n",
    "    def __del__(self):\n",
    "        pass\n",
    "    pass"
   ]
  },
  {
   "cell_type": "code",
   "execution_count": null,
   "metadata": {},
   "outputs": [],
   "source": []
  },
  {
   "cell_type": "code",
   "execution_count": null,
   "metadata": {},
   "outputs": [],
   "source": []
  }
 ],
 "metadata": {
  "kernelspec": {
   "display_name": "Python 3.10.4 64-bit",
   "language": "python",
   "name": "python3"
  },
  "language_info": {
   "codemirror_mode": {
    "name": "ipython",
    "version": 3
   },
   "file_extension": ".py",
   "mimetype": "text/x-python",
   "name": "python",
   "nbconvert_exporter": "python",
   "pygments_lexer": "ipython3",
   "version": "3.10.4"
  },
  "vscode": {
   "interpreter": {
    "hash": "7a792fcb311f9eb9f3c1b942a8c87ada8484712b89b670347c16a1088e0a1f69"
   }
  }
 },
 "nbformat": 4,
 "nbformat_minor": 4
}
